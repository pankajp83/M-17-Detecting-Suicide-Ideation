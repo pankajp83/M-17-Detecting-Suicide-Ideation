{
 "cells": [
  {
   "cell_type": "markdown",
   "id": "cbdd630a-f570-449f-8fe6-c0c8ea826561",
   "metadata": {
    "tags": []
   },
   "source": [
    "### Using Text Classification to Detect Suicide Ideation \n",
    "**Goal:** The goal of this project is to identify more effective ways for detecting people who are at risk for suicide. We will be training several classification models (Naive Bayes, Logistic Regression, Decision Trees, SVC) to detect suicide ideation from social media posts and comparing their performances to identify the best model, which we will further scrutinize to identify the features (words) which most effectively enhance the accuracy of predicting whether a user is at risk for suicide.\n",
    "\n",
    "**Data Problem:** The data task is to train and tune multiple binary text classification models that group social media posts into suicidal vs non-suicidal classes. \n",
    "\n",
    "**Expected Results:** The expected results of this project is a quality model with high accuracy that can be used to predict, from future/unseen posts, whether their writer is at risk for suicide. \n",
    "\n",
    "We will draw insights from this model by conducting a global analysis, using the ELI5 and LIME libraries identify the words/features used by the model for making accurate predictions. We will also be locally analyzing this model and evaluating its class prediction process for individual posts. Lastly, we will draw insights from our analyses and recommmend areas to research and courses to undertake for future work in detecting suicide ideation.  \n",
    "\n",
    "**Data**\n",
    "\n",
    "The data is sourced from Kaggle.\n",
    "\n",
    "\n",
    "Link: https://www.kaggle.com/datasets/nikhileswarkomati/suicide-watch \n",
    "- The data are a collection of posts collected from the 'SuicideWatch' and 'teenagers' subreddits from the Reddit platform using PushshiftAPI. Posts were created between 16 December 2008 - 2 January 2021\n",
    "- Social media posts collected from the 'SuicideWatch' subreddit are labelled 'suicide', while posts collected from 'teenagers' are labelled 'non-suicide'"
   ]
  },
  {
   "cell_type": "markdown",
   "id": "7c43104b-7d0d-4869-ba36-3e5cf4b4795b",
   "metadata": {
    "jp-MarkdownHeadingCollapsed": true,
    "tags": []
   },
   "source": [
    "#### Import and Setup"
   ]
  },
  {
   "cell_type": "code",
   "execution_count": 38,
   "id": "71521507-a45b-4135-8cac-e029b46efa3e",
   "metadata": {},
   "outputs": [],
   "source": [
    "import nltk\n",
    "import time\n",
    "import eli5\n",
    "import string\n",
    "import warnings\n",
    "import numpy as np\n",
    "import pandas as pd \n",
    "import seaborn as sns \n",
    "import plotly.express as px\n",
    "import matplotlib.pyplot as plt\n",
    "\n",
    "from wordcloud import WordCloud, STOPWORDS\n",
    "\n",
    "from nltk.corpus import stopwords \n",
    "from nltk.tokenize import TweetTokenizer\n",
    "from nltk import word_tokenize, sent_tokenize \n",
    "from nltk.stem import PorterStemmer, WordNetLemmatizer \n",
    "\n",
    "from sklearn.svm import SVC\n",
    "from sklearn.pipeline import Pipeline\n",
    "from sklearn.naive_bayes import MultinomialNB\n",
    "from sklearn.tree import DecisionTreeClassifier\n",
    "from sklearn.neighbors import KNeighborsClassifier\n",
    "from sklearn.linear_model import LogisticRegression\n",
    "from sklearn.preprocessing import StandardScaler, PolynomialFeatures\n",
    "from sklearn.metrics import confusion_matrix, ConfusionMatrixDisplay\n",
    "from sklearn.feature_extraction.text import CountVectorizer, TfidfVectorizer\n",
    "from sklearn.model_selection import train_test_split, GridSearchCV, RandomizedSearchCV \n",
    "from sklearn.metrics import mean_squared_error, accuracy_score, recall_score,f1_score, classification_report\n",
    "\n",
    "sns.set_style(\"whitegrid\")\n",
    "sns.set_palette(\"rocket\")\n",
    "\n",
    "warnings.simplefilter(action='ignore')"
   ]
  },
  {
   "cell_type": "code",
   "execution_count": 3,
   "id": "3cc84783-a63d-425f-a023-cef7572e5752",
   "metadata": {},
   "outputs": [
    {
     "name": "stderr",
     "output_type": "stream",
     "text": [
      "[nltk_data] Downloading package wordnet to /Users/lois/nltk_data...\n",
      "[nltk_data]   Package wordnet is already up-to-date!\n",
      "[nltk_data] Downloading package stopwords to /Users/lois/nltk_data...\n",
      "[nltk_data]   Package stopwords is already up-to-date!\n",
      "[nltk_data] Downloading package omw-1.4 to /Users/lois/nltk_data...\n",
      "[nltk_data]   Package omw-1.4 is already up-to-date!\n"
     ]
    },
    {
     "data": {
      "text/plain": [
       "True"
      ]
     },
     "execution_count": 3,
     "metadata": {},
     "output_type": "execute_result"
    }
   ],
   "source": [
    "nltk.download('wordnet')\n",
    "nltk.download('stopwords')\n",
    "nltk.download('omw-1.4')"
   ]
  },
  {
   "cell_type": "markdown",
   "id": "d12bb9a3-cd13-4e06-a0df-2221b9200e35",
   "metadata": {},
   "source": [
    "#### Data Overview \n",
    "\n",
    "- 232074 samples/rows \n",
    "- 3 columns: \n",
    "       1. Unnamed: 0: A unique ID for each row \n",
    "       2. text: Content of the social media post\n",
    "       3. class: Whether the poster is suicidal or not; values: ['suicide', 'non-suicide']"
   ]
  },
  {
   "cell_type": "code",
   "execution_count": 4,
   "id": "bc05e92a-5027-4b68-b5ae-b7acdd6477eb",
   "metadata": {},
   "outputs": [],
   "source": [
    "suicide = pd.read_csv(\"/Users/Lois/Downloads/ML ipynb/Capstone/SuicideDetection.csv\")"
   ]
  },
  {
   "cell_type": "code",
   "execution_count": 5,
   "id": "307451e6-1e0d-4051-83cb-4a2bdda61c37",
   "metadata": {},
   "outputs": [
    {
     "name": "stdout",
     "output_type": "stream",
     "text": [
      "(232074, 3)\n"
     ]
    },
    {
     "data": {
      "text/html": [
       "<div>\n",
       "<style scoped>\n",
       "    .dataframe tbody tr th:only-of-type {\n",
       "        vertical-align: middle;\n",
       "    }\n",
       "\n",
       "    .dataframe tbody tr th {\n",
       "        vertical-align: top;\n",
       "    }\n",
       "\n",
       "    .dataframe thead th {\n",
       "        text-align: right;\n",
       "    }\n",
       "</style>\n",
       "<table border=\"1\" class=\"dataframe\">\n",
       "  <thead>\n",
       "    <tr style=\"text-align: right;\">\n",
       "      <th></th>\n",
       "      <th>Unnamed: 0</th>\n",
       "      <th>text</th>\n",
       "      <th>class</th>\n",
       "    </tr>\n",
       "  </thead>\n",
       "  <tbody>\n",
       "    <tr>\n",
       "      <th>0</th>\n",
       "      <td>2</td>\n",
       "      <td>Ex Wife Threatening SuicideRecently I left my ...</td>\n",
       "      <td>suicide</td>\n",
       "    </tr>\n",
       "    <tr>\n",
       "      <th>1</th>\n",
       "      <td>3</td>\n",
       "      <td>Am I weird I don't get affected by compliments...</td>\n",
       "      <td>non-suicide</td>\n",
       "    </tr>\n",
       "    <tr>\n",
       "      <th>2</th>\n",
       "      <td>4</td>\n",
       "      <td>Finally 2020 is almost over... So I can never ...</td>\n",
       "      <td>non-suicide</td>\n",
       "    </tr>\n",
       "    <tr>\n",
       "      <th>3</th>\n",
       "      <td>8</td>\n",
       "      <td>i need helpjust help me im crying so hard</td>\n",
       "      <td>suicide</td>\n",
       "    </tr>\n",
       "    <tr>\n",
       "      <th>4</th>\n",
       "      <td>9</td>\n",
       "      <td>I’m so lostHello, my name is Adam (16) and I’v...</td>\n",
       "      <td>suicide</td>\n",
       "    </tr>\n",
       "  </tbody>\n",
       "</table>\n",
       "</div>"
      ],
      "text/plain": [
       "   Unnamed: 0                                               text        class\n",
       "0           2  Ex Wife Threatening SuicideRecently I left my ...      suicide\n",
       "1           3  Am I weird I don't get affected by compliments...  non-suicide\n",
       "2           4  Finally 2020 is almost over... So I can never ...  non-suicide\n",
       "3           8          i need helpjust help me im crying so hard      suicide\n",
       "4           9  I’m so lostHello, my name is Adam (16) and I’v...      suicide"
      ]
     },
     "execution_count": 5,
     "metadata": {},
     "output_type": "execute_result"
    }
   ],
   "source": [
    "print(suicide.shape)\n",
    "suicide.head()"
   ]
  },
  {
   "cell_type": "code",
   "execution_count": 6,
   "id": "ad93d694-1e10-43cc-9722-a55f992b690d",
   "metadata": {},
   "outputs": [],
   "source": [
    "#using a random sample of 20,000 entries for model training\n",
    "suicide = suicide.sample(20000, random_state = 42)"
   ]
  },
  {
   "cell_type": "code",
   "execution_count": 111,
   "id": "1d900f36-ee2b-4c3e-8e5e-e3a01b6002b6",
   "metadata": {},
   "outputs": [
    {
     "name": "stdout",
     "output_type": "stream",
     "text": [
      "Class: suicide\n"
     ]
    },
    {
     "data": {
      "text/plain": [
       "\"I Don't know?7? Months self harm free and the urge just gets stronger and stronger every day. The past few days I've just been shit... \\nMy family stresses me out especially my nephew (he's 12) My mum has full custody of him and he's told me to go kill myself numerous times.. I wish it was that easy.\\nMy partners family stresses me out especially over the past few days. \\nStress is my trigger \\nI just want to scream and cry. \\nI live near the woods so I could go out and scream till I can't possibly scream anymore but the cops will probably get called...\\nMy OH knows about my depression but he doesn't really know how I'm feeling at the moment. He would want to come over and make sure I'm OK but he's fucking annoying. He annoys me all the time by doing small stupid things. \\nI don't even know where I'm going with the post? \\n\\n\""
      ]
     },
     "execution_count": 111,
     "metadata": {},
     "output_type": "execute_result"
    }
   ],
   "source": [
    "#sample suicidal post\n",
    "print('Class:', suicide['class'].iloc[0])\n",
    "suicide['text'].iloc[0]"
   ]
  },
  {
   "cell_type": "code",
   "execution_count": 112,
   "id": "3982c227-e0ed-4f57-979b-38466af058fa",
   "metadata": {},
   "outputs": [
    {
     "name": "stdout",
     "output_type": "stream",
     "text": [
      "Class: non-suicide\n"
     ]
    },
    {
     "data": {
      "text/plain": [
       "'I HAVE TO START BECOMING RICH I HAVE TO START MY COMPANY SO WHEN I BECOME 16 I CAN AFFORD A BIG VAN AND GO ON TRIPS WITH MY FRIENDS BUT I HAVE NO TIME LEFT I HAVE TO START WORKING'"
      ]
     },
     "execution_count": 112,
     "metadata": {},
     "output_type": "execute_result"
    }
   ],
   "source": [
    "#sample non-suicidal post\n",
    "print('Class:', suicide['class'].iloc[1])\n",
    "suicide['text'].iloc[1]"
   ]
  },
  {
   "cell_type": "markdown",
   "id": "cf4fc1f6-3d40-4304-8b2c-5a446d1bfa3d",
   "metadata": {},
   "source": [
    "#### Exploratory Data Analysis"
   ]
  },
  {
   "cell_type": "code",
   "execution_count": 8,
   "id": "8ca0aa4c-6d0e-4d04-80b0-59759c4cd86b",
   "metadata": {},
   "outputs": [
    {
     "name": "stdout",
     "output_type": "stream",
     "text": [
      "<class 'pandas.core.frame.DataFrame'>\n",
      "Int64Index: 20000 entries, 74414 to 89712\n",
      "Data columns (total 3 columns):\n",
      " #   Column      Non-Null Count  Dtype \n",
      "---  ------      --------------  ----- \n",
      " 0   Unnamed: 0  20000 non-null  int64 \n",
      " 1   text        20000 non-null  object\n",
      " 2   class       20000 non-null  object\n",
      "dtypes: int64(1), object(2)\n",
      "memory usage: 625.0+ KB\n"
     ]
    }
   ],
   "source": [
    "suicide.info()"
   ]
  },
  {
   "cell_type": "code",
   "execution_count": 9,
   "id": "ccb6056c-7c3e-43d8-8b23-89e7be0d86cf",
   "metadata": {},
   "outputs": [
    {
     "data": {
      "text/plain": [
       "Unnamed: 0    0\n",
       "text          0\n",
       "class         0\n",
       "dtype: int64"
      ]
     },
     "execution_count": 9,
     "metadata": {},
     "output_type": "execute_result"
    }
   ],
   "source": [
    "#no null values\n",
    "suicide.isna().sum()"
   ]
  },
  {
   "cell_type": "markdown",
   "id": "51ae7410-51b9-4aa9-9486-5556d0585592",
   "metadata": {},
   "source": [
    "**Post Length** \n",
    "\n",
    "The length of the majority of posts are under 500 characters, with very few posts exceeding 2000 charaters.  "
   ]
  },
  {
   "cell_type": "code",
   "execution_count": 10,
   "id": "9ce65343-8c0f-47ed-b6e6-d7a61b77abbb",
   "metadata": {},
   "outputs": [
    {
     "name": "stdout",
     "output_type": "stream",
     "text": [
      "Mean character count: 680.14645\n",
      "Min character count: 7\n",
      "Max character count: 40106\n"
     ]
    }
   ],
   "source": [
    "#summary statistics of post length\n",
    "suicide['char_count'] = suicide.text.apply(len)\n",
    "print('Mean character count:', suicide['char_count'].mean())\n",
    "print('Min character count:', suicide['char_count'].min())\n",
    "print('Max character count:', suicide['char_count'].max())"
   ]
  },
  {
   "cell_type": "code",
   "execution_count": 11,
   "id": "03fd75b8-8d9d-4a63-861c-eb5652475115",
   "metadata": {},
   "outputs": [
    {
     "data": {
      "text/plain": [
       "(0.0, 10000.0)"
      ]
     },
     "execution_count": 11,
     "metadata": {},
     "output_type": "execute_result"
    },
    {
     "data": {
      "image/png": "[encoded data removed]",
      "text/plain": [
       "<Figure size 432x288 with 1 Axes>"
      ]
     },
     "metadata": {},
     "output_type": "display_data"
    }
   ],
   "source": [
    "#character count visualization\n",
    "fig, ax = plt.subplots()\n",
    "sns.histplot(suicide['char_count'], ax = ax).set_title('Post Character Count')\n",
    "ax.set_xlim(0, 10000)"
   ]
  },
  {
   "cell_type": "markdown",
   "id": "02022bbe-1311-49d6-8c31-bfe4aacd4de2",
   "metadata": {},
   "source": [
    "**Data Distribution**\n",
    "\n",
    "The data are balanced, with comparable counts of suicide and non-suicide posts. This makes accuracy score a suitable metric for evaluating models trained on this data. "
   ]
  },
  {
   "cell_type": "code",
   "execution_count": 15,
   "id": "d195dc09-213a-4c6a-bd92-e2a65a5fd206",
   "metadata": {},
   "outputs": [
    {
     "data": {
      "image/png": "[encoded data removed]",
      "text/plain": [
       "<Figure size 360x360 with 1 Axes>"
      ]
     },
     "metadata": {},
     "output_type": "display_data"
    }
   ],
   "source": [
    "#checking class distribution \n",
    "#the data is balanced: Comparable counts of suicide vs non-suicide posts\n",
    "\n",
    "fig = sns.catplot(x = 'class', kind = 'count', data = suicide)\n",
    "fig.fig.suptitle(\"Class Counts\")\n",
    "for fig in fig.axes.flat:\n",
    "    fig.bar_label(fig.containers[0])"
   ]
  },
  {
   "cell_type": "markdown",
   "id": "07211448-940f-4bd3-bfa5-92e7448f3872",
   "metadata": {},
   "source": [
    "#### Data Setup"
   ]
  },
  {
   "cell_type": "code",
   "execution_count": 7,
   "id": "bf966570-1685-48dd-be8b-980e69a16948",
   "metadata": {},
   "outputs": [
    {
     "data": {
      "text/html": [
       "<div>\n",
       "<style scoped>\n",
       "    .dataframe tbody tr th:only-of-type {\n",
       "        vertical-align: middle;\n",
       "    }\n",
       "\n",
       "    .dataframe tbody tr th {\n",
       "        vertical-align: top;\n",
       "    }\n",
       "\n",
       "    .dataframe thead th {\n",
       "        text-align: right;\n",
       "    }\n",
       "</style>\n",
       "<table border=\"1\" class=\"dataframe\">\n",
       "  <thead>\n",
       "    <tr style=\"text-align: right;\">\n",
       "      <th></th>\n",
       "      <th>text</th>\n",
       "      <th>suicide</th>\n",
       "    </tr>\n",
       "  </thead>\n",
       "  <tbody>\n",
       "    <tr>\n",
       "      <th>74414</th>\n",
       "      <td>I Don't know?7? Months self harm free and the ...</td>\n",
       "      <td>1</td>\n",
       "    </tr>\n",
       "    <tr>\n",
       "      <th>149516</th>\n",
       "      <td>I HAVE TO START BECOMING RICH I HAVE TO START ...</td>\n",
       "      <td>0</td>\n",
       "    </tr>\n",
       "    <tr>\n",
       "      <th>12484</th>\n",
       "      <td>A poem (haiku) for u/Me-Game-Dev hi, hello hel...</td>\n",
       "      <td>0</td>\n",
       "    </tr>\n",
       "    <tr>\n",
       "      <th>14043</th>\n",
       "      <td>I've honestly got no idea what to do anymore.I...</td>\n",
       "      <td>1</td>\n",
       "    </tr>\n",
       "    <tr>\n",
       "      <th>30673</th>\n",
       "      <td>Do you ever just cry? Like you just think abou...</td>\n",
       "      <td>0</td>\n",
       "    </tr>\n",
       "  </tbody>\n",
       "</table>\n",
       "</div>"
      ],
      "text/plain": [
       "                                                     text  suicide\n",
       "74414   I Don't know?7? Months self harm free and the ...        1\n",
       "149516  I HAVE TO START BECOMING RICH I HAVE TO START ...        0\n",
       "12484   A poem (haiku) for u/Me-Game-Dev hi, hello hel...        0\n",
       "14043   I've honestly got no idea what to do anymore.I...        1\n",
       "30673   Do you ever just cry? Like you just think abou...        0"
      ]
     },
     "execution_count": 7,
     "metadata": {},
     "output_type": "execute_result"
    }
   ],
   "source": [
    "#only keeping the text and class columns\n",
    "suicide.drop(\"Unnamed: 0\", axis = 1, inplace = True)\n",
    "\n",
    "#renaming \"class\" column as \"suicide\"\n",
    "suicide.rename({\"class\" : \"suicide\"}, axis = 1, inplace = True)\n",
    "\n",
    "#numerically representing the contents of \"suicide\" column\n",
    "suicide.replace({\"suicide\" : 1, \"non-suicide\" : 0}, inplace = True)\n",
    "suicide.head()"
   ]
  },
  {
   "cell_type": "code",
   "execution_count": 8,
   "id": "d4854fa0-9140-4153-8546-ea4faf562a2a",
   "metadata": {},
   "outputs": [],
   "source": [
    "#train test split\n",
    "X = suicide['text']\n",
    "y = suicide['suicide']\n",
    "X_train, X_test, y_train, y_test = train_test_split(X, y, test_size = 0.25, random_state = 42)"
   ]
  },
  {
   "cell_type": "code",
   "execution_count": 9,
   "id": "5794cf9a-1320-4cf7-a204-9821d65041b9",
   "metadata": {},
   "outputs": [
    {
     "data": {
      "text/plain": [
       "'This world is sick.This world needs to be destroyed. We cause each other immense suffering and tears. We are miserable creatures that stab our parents in the hearts while casting our own children to hungry wolves. Things look like they are getting better through the illusions of technology, but we are really just sinking deeper into the filthy, wicked mires of our unclean souls.\\n\\nI\\'m not what would be considered \"suicidal\", but I do give up on this life. It\\'s not a surprise to me that suicide rates are increasing around the world. People are throwing away their humanity for the superficial pleasures provided to them by technology, and our economies are absolutely raping us for this perverted privilege. We are becoming less human; it causes me grief. I have no idea what we\\'ve become, but it needs to be destroyed.\\n\\nSomebody, save us.'"
      ]
     },
     "execution_count": 9,
     "metadata": {},
     "output_type": "execute_result"
    }
   ],
   "source": [
    "#sample unprocessed post\n",
    "X_train.iloc[0]"
   ]
  },
  {
   "cell_type": "markdown",
   "id": "3a750bcb-a083-4e29-864c-4e0fe045896b",
   "metadata": {},
   "source": [
    "#### Text Preprocessing\n",
    "\n",
    "A function is written to tokenize posts, remove stop words, punctuation, and capitalization, and finally implement steming on the posts. "
   ]
  },
  {
   "cell_type": "code",
   "execution_count": 10,
   "id": "0d54b2b5-b822-4faa-865b-624e07d922d8",
   "metadata": {},
   "outputs": [],
   "source": [
    "#tokenization, stop word removal, punctuation removal, lower casing, and stemming\n",
    "def preprocess_text(text):\n",
    "    tokenizer = TweetTokenizer(preserve_case = False)\n",
    "    swords = stopwords.words('english')\n",
    "    punc = list(string.punctuation)\n",
    "    stemmer = PorterStemmer()\n",
    "    \n",
    "    proprocessed_text = []\n",
    "    for entry in text:\n",
    "        tokens = tokenizer.tokenize(entry)\n",
    "        proprocessed_text.append([stemmer.stem(word) for word in tokens if word not in swords and word not in punc])\n",
    "    return proprocessed_text"
   ]
  },
  {
   "cell_type": "code",
   "execution_count": 11,
   "id": "e8059315-f676-47a6-8311-74327ecaa425",
   "metadata": {},
   "outputs": [],
   "source": [
    "#preprocessing\n",
    "pX_train = preprocess_text(X_train)\n",
    "X_train = [' '.join(x) for x in pX_train]\n",
    "\n",
    "pX_test = preprocess_text(X_test)\n",
    "X_test = [' '.join(x) for x in pX_test]"
   ]
  },
  {
   "cell_type": "code",
   "execution_count": 12,
   "id": "89ede072-0c47-42ee-adcc-4715c12308bc",
   "metadata": {},
   "outputs": [
    {
     "data": {
      "text/plain": [
       "\"world sick.thi world need destroy caus immens suffer tear miser creatur stab parent heart cast children hungri wolv thing look like get better illus technolog realli sink deeper filthi wick mire unclean soul i'm would consid suicid give life surpris suicid rate increas around world peopl throw away human superfici pleasur provid technolog economi absolut rape us pervert privileg becom less human caus grief idea we'v becom need destroy somebodi save us\""
      ]
     },
     "execution_count": 12,
     "metadata": {},
     "output_type": "execute_result"
    }
   ],
   "source": [
    "#sample preprocessed post\n",
    "X_train[0]"
   ]
  },
  {
   "cell_type": "markdown",
   "id": "45211132-54d2-469e-b7f0-139d33f29381",
   "metadata": {
    "tags": []
   },
   "source": [
    " "
   ]
  },
  {
   "cell_type": "markdown",
   "id": "dffd8f91-6ba0-44db-8ea3-abc2c9c0b74f",
   "metadata": {
    "tags": []
   },
   "source": [
    "#### Model Training\n",
    "\n",
    "Holdout cross validation will be implemented: Models will be trained on the training set and validated with the test set.\n",
    "\n",
    "RandomizedSearchCV evaluated models using accuracy score, and fine tuned each model's hyperparameters to maximize this metric.\n",
    "\n",
    "Accuracy is suitable because we have a balanced dataset. Accuracy measures the proportion of correctly predicted observations out of total observations and is calculated as (True Positive count + True Negative count) / (Total count), or\n",
    "\n",
    "$$\n",
    "\\frac{TP + TN}{TP + TN + FP + FN}\n",
    "$$"
   ]
  },
  {
   "cell_type": "markdown",
   "id": "5acebc02-a62e-4c89-ab14-15ccb2b42150",
   "metadata": {},
   "source": [
    "**Naïve Bayes** \n",
    "\n",
    "A pipeline object is created to standardize the data using TF-IDF and instantiate a Naïve Bayes model. RandomizedSearchCV is used to find the optimal alpha value (options: [1, 0.1, 0.01, 0.001, 0]), which is 0.1."
   ]
  },
  {
   "cell_type": "code",
   "execution_count": 13,
   "id": "b3b31576-b874-4570-8305-39728ca24f3a",
   "metadata": {
    "tags": []
   },
   "outputs": [],
   "source": [
    "#naive bayes model with tfidf vectorizer \n",
    "nb = Pipeline([\n",
    "    ('tfidf', TfidfVectorizer()),\n",
    "    ('bayes', MultinomialNB())\n",
    "])"
   ]
  },
  {
   "cell_type": "code",
   "execution_count": 14,
   "id": "ff415de9-c660-4f4a-a3ee-550f2913d7ab",
   "metadata": {},
   "outputs": [],
   "source": [
    "#nb params\n",
    "nb_params = {'bayes__alpha' : [1, 0.1, 0.01, 0.001, 0]}"
   ]
  },
  {
   "cell_type": "code",
   "execution_count": 15,
   "id": "102c7e0e-39d3-495f-8995-8918caa67909",
   "metadata": {},
   "outputs": [],
   "source": [
    "#grid search \n",
    "nb_grid = RandomizedSearchCV(estimator = nb,\n",
    "                            param_distributions = nb_params)\n",
    "\n",
    "start = time.time()\n",
    "nb_grid.fit(X_train, y_train)\n",
    "stop = time.time()\n",
    "\n",
    "#stats\n",
    "nb_time = stop - start\n",
    "nb_params = nb_grid.best_params_\n",
    "nb_acc = nb_grid.score(X_test, y_test)\n",
    "nb_rec = recall_score(y_test, nb_grid.predict(X_test))\n",
    "nb_f1 = f1_score(y_test, nb_grid.predict(X_test))"
   ]
  },
  {
   "cell_type": "code",
   "execution_count": 29,
   "id": "79df3be0-c712-4eb0-b14c-219f5de220b2",
   "metadata": {},
   "outputs": [
    {
     "data": {
      "text/plain": [
       "{'bayes__alpha': 0.1}"
      ]
     },
     "execution_count": 29,
     "metadata": {},
     "output_type": "execute_result"
    }
   ],
   "source": [
    "#best params\n",
    "nb_params"
   ]
  },
  {
   "cell_type": "markdown",
   "id": "3ef64354-93f4-42ce-b506-3e2fba5deb19",
   "metadata": {},
   "source": [
    "**Logistic Regression**\n",
    "\n",
    "A pipeline object is created to standardize the data using TF-IDF and instantiate a Logistic Regression model. RandomizedSearchCV is used to find (1) the optimal penlaty, with the options being ['l1', 'l2', 'none'] and (2) whether an intercept term should be included (options: [True, False]). The best model has l2 penalty and an intercept term."
   ]
  },
  {
   "cell_type": "code",
   "execution_count": 16,
   "id": "64665911-1be3-467e-baf7-bcc0525c7486",
   "metadata": {},
   "outputs": [],
   "source": [
    "#logreg + tfidf \n",
    "lgr = Pipeline([\n",
    "    ('tfidf', TfidfVectorizer()),\n",
    "    ('lgr', LogisticRegression())\n",
    "])"
   ]
  },
  {
   "cell_type": "code",
   "execution_count": 17,
   "id": "c6a4460c-247f-4e55-99e0-665b2136afb5",
   "metadata": {},
   "outputs": [],
   "source": [
    "#lgr params\n",
    "lgr_params = {'lgr__penalty' : ['l1', 'l2', 'none'],\n",
    "             'lgr__fit_intercept' : [True, False]}"
   ]
  },
  {
   "cell_type": "code",
   "execution_count": 18,
   "id": "f658e34e-5ccb-4856-81eb-60a8ec532c9d",
   "metadata": {},
   "outputs": [],
   "source": [
    "#gridsearch \n",
    "lgr_grid = RandomizedSearchCV(estimator = lgr,\n",
    "                   param_distributions = lgr_params)\n",
    "\n",
    "\n",
    "start = time.time()\n",
    "lgr_grid.fit(X_train, y_train)\n",
    "stop = time.time()\n",
    "\n",
    "#stats\n",
    "lgr_time = stop - start\n",
    "lgr_params = lgr_grid.best_params_\n",
    "lgr_acc = lgr_grid.score(X_test, y_test)\n",
    "lgr_rec = recall_score(y_test, lgr_grid.predict(X_test))\n",
    "lgr_f1 = f1_score(y_test, lgr_grid.predict(X_test))"
   ]
  },
  {
   "cell_type": "code",
   "execution_count": 30,
   "id": "35116135-4481-443f-97a7-b978dd001101",
   "metadata": {},
   "outputs": [
    {
     "data": {
      "text/plain": [
       "{'lgr__penalty': 'l2', 'lgr__fit_intercept': True}"
      ]
     },
     "execution_count": 30,
     "metadata": {},
     "output_type": "execute_result"
    }
   ],
   "source": [
    "#best params\n",
    "lgr_params"
   ]
  },
  {
   "cell_type": "markdown",
   "id": "d8745637-5db2-498d-8782-73d99c2120f8",
   "metadata": {},
   "source": [
    "**Decision Tree**\n",
    "\n",
    "A pipeline object is created to standardize the data using TF-IDF and instantiate a Decision Tree model. RandomizedSearchCV is used to find (1) the optimal tree criterion, with the options being ['gini', 'entropy'], (2) max depth (options: [None, 1, 2, 3, 4]), and (3) the minimum sample count required to split a node (options: [1, 2, 3, 4]). The best model has a minimum sample split of 3, no max depth, and uses the gini criterion. "
   ]
  },
  {
   "cell_type": "code",
   "execution_count": 21,
   "id": "d193bcf7-b805-42f5-9165-885354139e5d",
   "metadata": {},
   "outputs": [],
   "source": [
    "#decision tree + tfidf \n",
    "tree = Pipeline([\n",
    "    ('tfidf', TfidfVectorizer()),\n",
    "    ('tree', DecisionTreeClassifier())\n",
    "])"
   ]
  },
  {
   "cell_type": "code",
   "execution_count": 22,
   "id": "e482ce0a-1593-4f3b-82dc-d9be36ffebf4",
   "metadata": {},
   "outputs": [],
   "source": [
    "#tree params\n",
    "tree_params = {'tree__criterion' : ['gini', 'entropoy'],\n",
    "              'tree__max_depth' : [None, 1, 2, 3, 4],\n",
    "              'tree__min_samples_split' : [1, 2, 3, 4]}"
   ]
  },
  {
   "cell_type": "code",
   "execution_count": 23,
   "id": "2e6c644c-4705-4266-83b5-53554e89a876",
   "metadata": {},
   "outputs": [],
   "source": [
    "#gridsearch\n",
    "tree_grid = RandomizedSearchCV(estimator = tree,\n",
    "                   param_distributions = tree_params)\n",
    "\n",
    "start = time.time()\n",
    "tree_grid.fit(X_train, y_train)\n",
    "stop = time.time()\n",
    "\n",
    "#stats\n",
    "tree_time = stop - start\n",
    "tree_params = tree_grid.best_params_\n",
    "tree_acc = tree_grid.score(X_test, y_test)\n",
    "tree_rec = recall_score(y_test, tree_grid.predict(X_test))\n",
    "tree_f1 = f1_score(y_test, tree_grid.predict(X_test))"
   ]
  },
  {
   "cell_type": "code",
   "execution_count": 31,
   "id": "a6bc235f-2ee5-42ef-bb1e-5a4349f842cd",
   "metadata": {},
   "outputs": [
    {
     "data": {
      "text/plain": [
       "{'tree__min_samples_split': 3,\n",
       " 'tree__max_depth': None,\n",
       " 'tree__criterion': 'gini'}"
      ]
     },
     "execution_count": 31,
     "metadata": {},
     "output_type": "execute_result"
    }
   ],
   "source": [
    "#best params\n",
    "tree_params"
   ]
  },
  {
   "cell_type": "markdown",
   "id": "e6752b13-2118-4e13-b0d8-d1cc9646c24b",
   "metadata": {},
   "source": [
    "**SVC**\n",
    "\n",
    "A pipeline object is created to standardize the data using TF-IDF and instantiate a Support Vector Classifier model using a linear kernel. RandomizedSearchCV is used to (1) The optimal C value (options: [0.1, 1, 10, 100, 1000]) and (2) Probability (options: [True, False]). The best model has a probability = True and a C value of 1. "
   ]
  },
  {
   "cell_type": "code",
   "execution_count": 52,
   "id": "21acfce6-85d4-4192-85fb-ca4cb7416560",
   "metadata": {},
   "outputs": [],
   "source": [
    "#svc + tfidf \n",
    "svc = Pipeline([\n",
    "    ('tfidf', TfidfVectorizer()),\n",
    "    ('svc', SVC(kernel = 'linear'))\n",
    "])"
   ]
  },
  {
   "cell_type": "code",
   "execution_count": 55,
   "id": "50e900c4-9fb8-4874-85d6-2c720e6fe9f4",
   "metadata": {},
   "outputs": [],
   "source": [
    "#params\n",
    "svc_params = {'svc__C' : [0.1, 1, 10, 100, 1000],\n",
    "             'svc__probability' : [True, False]}"
   ]
  },
  {
   "cell_type": "code",
   "execution_count": 56,
   "id": "fbf08b5a-d49b-44ff-b0c6-b3cfc92f1766",
   "metadata": {},
   "outputs": [],
   "source": [
    "#gridsearch\n",
    "svc_grid = RandomizedSearchCV(estimator = svc,\n",
    "                   param_distributions = svc_params)\n",
    "\n",
    "start = time.time()\n",
    "svc_grid.fit(X_train, y_train)\n",
    "stop = time.time()\n",
    "\n",
    "#stats\n",
    "svc_time = stop - start\n",
    "svc_params = svc_grid.best_params_\n",
    "svc_acc = svc_grid.score(X_test, y_test)\n",
    "svc_rec = recall_score(y_test, svc_grid.predict(X_test))\n",
    "svc_f1 = f1_score(y_test, svc_grid.predict(X_test))"
   ]
  },
  {
   "cell_type": "code",
   "execution_count": 57,
   "id": "141ef529-a35a-4448-abb9-091b7b600c3e",
   "metadata": {},
   "outputs": [
    {
     "data": {
      "text/plain": [
       "{'svc__probability': True, 'svc__C': 1}"
      ]
     },
     "execution_count": 57,
     "metadata": {},
     "output_type": "execute_result"
    }
   ],
   "source": [
    "#best params\n",
    "svc_params"
   ]
  },
  {
   "cell_type": "markdown",
   "id": "bb718c3f-5e40-4448-bf30-c36c10c77ecd",
   "metadata": {},
   "source": [
    "#### Model evaluation and summary of results \n",
    "\n",
    "Best accuracy: **SVC** with a score of 0.924\n",
    "\n",
    "Best recall: **Naive Bayes** with a score of 0.955\n",
    "\n",
    "Best f1: **SVC** with a score of 0.924"
   ]
  },
  {
   "cell_type": "code",
   "execution_count": 58,
   "id": "4654e2db-5b95-4ff3-9b9f-3b65965fac18",
   "metadata": {},
   "outputs": [],
   "source": [
    "#build df \n",
    "results_df = pd.DataFrame({'model': ['Logistic Regression', 'Decision Tree', 'Naive Bayes', 'SVC'], \n",
    "              'speed' : [lgr_time, tree_time, nb_time, svc_time],\n",
    "              'best_params': [lgr_params, tree_params, nb_params, svc_params],\n",
    "              'accuracy': [lgr_acc, tree_acc, nb_acc, svc_acc],\n",
    "              'recall' : [lgr_rec, tree_rec, nb_rec, svc_rec],\n",
    "              'f1' : [lgr_f1, tree_f1, nb_f1, svc_acc]}).set_index('model')"
   ]
  },
  {
   "cell_type": "code",
   "execution_count": 59,
   "id": "e6274b36-a515-45b5-bc51-1f53bd56739c",
   "metadata": {},
   "outputs": [
    {
     "data": {
      "text/html": [
       "<div>\n",
       "<style scoped>\n",
       "    .dataframe tbody tr th:only-of-type {\n",
       "        vertical-align: middle;\n",
       "    }\n",
       "\n",
       "    .dataframe tbody tr th {\n",
       "        vertical-align: top;\n",
       "    }\n",
       "\n",
       "    .dataframe thead th {\n",
       "        text-align: right;\n",
       "    }\n",
       "</style>\n",
       "<table border=\"1\" class=\"dataframe\">\n",
       "  <thead>\n",
       "    <tr style=\"text-align: right;\">\n",
       "      <th></th>\n",
       "      <th>speed</th>\n",
       "      <th>best_params</th>\n",
       "      <th>accuracy</th>\n",
       "      <th>recall</th>\n",
       "      <th>f1</th>\n",
       "    </tr>\n",
       "    <tr>\n",
       "      <th>model</th>\n",
       "      <th></th>\n",
       "      <th></th>\n",
       "      <th></th>\n",
       "      <th></th>\n",
       "      <th></th>\n",
       "    </tr>\n",
       "  </thead>\n",
       "  <tbody>\n",
       "    <tr>\n",
       "      <th>Logistic Regression</th>\n",
       "      <td>26.134971</td>\n",
       "      <td>{'lgr__penalty': 'l2', 'lgr__fit_intercept': T...</td>\n",
       "      <td>0.9174</td>\n",
       "      <td>0.898528</td>\n",
       "      <td>0.916210</td>\n",
       "    </tr>\n",
       "    <tr>\n",
       "      <th>Decision Tree</th>\n",
       "      <td>61.063204</td>\n",
       "      <td>{'tree__min_samples_split': 3, 'tree__max_dept...</td>\n",
       "      <td>0.8222</td>\n",
       "      <td>0.814564</td>\n",
       "      <td>0.821593</td>\n",
       "    </tr>\n",
       "    <tr>\n",
       "      <th>Naive Bayes</th>\n",
       "      <td>16.348134</td>\n",
       "      <td>{'bayes__alpha': 0.1}</td>\n",
       "      <td>0.8896</td>\n",
       "      <td>0.955432</td>\n",
       "      <td>0.896900</td>\n",
       "    </tr>\n",
       "    <tr>\n",
       "      <th>SVC</th>\n",
       "      <td>2338.963991</td>\n",
       "      <td>{'svc__probability': True, 'svc__C': 1}</td>\n",
       "      <td>0.9244</td>\n",
       "      <td>0.915639</td>\n",
       "      <td>0.924400</td>\n",
       "    </tr>\n",
       "  </tbody>\n",
       "</table>\n",
       "</div>"
      ],
      "text/plain": [
       "                           speed  \\\n",
       "model                              \n",
       "Logistic Regression    26.134971   \n",
       "Decision Tree          61.063204   \n",
       "Naive Bayes            16.348134   \n",
       "SVC                  2338.963991   \n",
       "\n",
       "                                                           best_params  \\\n",
       "model                                                                    \n",
       "Logistic Regression  {'lgr__penalty': 'l2', 'lgr__fit_intercept': T...   \n",
       "Decision Tree        {'tree__min_samples_split': 3, 'tree__max_dept...   \n",
       "Naive Bayes                                      {'bayes__alpha': 0.1}   \n",
       "SVC                            {'svc__probability': True, 'svc__C': 1}   \n",
       "\n",
       "                     accuracy    recall        f1  \n",
       "model                                              \n",
       "Logistic Regression    0.9174  0.898528  0.916210  \n",
       "Decision Tree          0.8222  0.814564  0.821593  \n",
       "Naive Bayes            0.8896  0.955432  0.896900  \n",
       "SVC                    0.9244  0.915639  0.924400  "
      ]
     },
     "execution_count": 59,
     "metadata": {},
     "output_type": "execute_result"
    }
   ],
   "source": [
    "results_df"
   ]
  },
  {
   "cell_type": "markdown",
   "id": "c4feff7e-4995-4bc5-b5a6-c5f34d0646be",
   "metadata": {},
   "source": [
    "##### Comparing confusion matrices to select the best model \n",
    "Confusion matrices indicate the counts of each error type a model made in the classification task. In these plots, 0 = not suicidal and 1 = suicidal.\n",
    "\n",
    "FP = False Positive, FN = False Negative \n",
    "- The Logistic Regression model has nearly 2x as many FN as FP\n",
    "- The Naive Bayes model has nearly 4x as many FP as FN\n",
    "- The Decision Tree model has similar FP and FN counts with slightly more FN\n",
    "- The SVC model has slightly more FN than FP "
   ]
  },
  {
   "cell_type": "code",
   "execution_count": 60,
   "id": "4d6bedec-d9d4-4d27-901e-4b0f1e57feae",
   "metadata": {},
   "outputs": [],
   "source": [
    "#compile preds\n",
    "log_preds = lgr_grid.predict(X_test)\n",
    "nb_preds = nb_grid.predict(X_test)\n",
    "tree_preds = tree_grid.predict(X_test)\n",
    "svc_preds = svc_grid.predict(X_test)"
   ]
  },
  {
   "cell_type": "code",
   "execution_count": 34,
   "id": "5fb3999b-3d8e-4ba0-aef2-608cfc27adac",
   "metadata": {},
   "outputs": [
    {
     "data": {
      "text/plain": [
       "Text(0.5, 1.0, 'Logistic Regression Confusion Matrix')"
      ]
     },
     "execution_count": 34,
     "metadata": {},
     "output_type": "execute_result"
    },
    {
     "data": {
      "image/png": "[encoded data removed]",
      "text/plain": [
       "<Figure size 432x288 with 2 Axes>"
      ]
     },
     "metadata": {},
     "output_type": "display_data"
    }
   ],
   "source": [
    "#logreg \n",
    "ConfusionMatrixDisplay(confusion_matrix(y_test, log_preds)).plot()\n",
    "plt.grid(False)\n",
    "plt.title(\"Logistic Regression Confusion Matrix\")"
   ]
  },
  {
   "cell_type": "code",
   "execution_count": 35,
   "id": "47eace72-bcea-4317-ba66-3917d2088fa9",
   "metadata": {},
   "outputs": [
    {
     "data": {
      "text/plain": [
       "Text(0.5, 1.0, 'Naive Bayes Confusion Matrix')"
      ]
     },
     "execution_count": 35,
     "metadata": {},
     "output_type": "execute_result"
    },
    {
     "data": {
      "image/png": "[encoded data removed]",
      "text/plain": [
       "<Figure size 432x288 with 2 Axes>"
      ]
     },
     "metadata": {},
     "output_type": "display_data"
    }
   ],
   "source": [
    "#naive bayes\n",
    "ConfusionMatrixDisplay(confusion_matrix(y_test, nb_preds)).plot()\n",
    "plt.grid(False)\n",
    "plt.title(\"Naive Bayes Confusion Matrix\")"
   ]
  },
  {
   "cell_type": "code",
   "execution_count": 36,
   "id": "db3ea4a2-1e92-4d20-b9fb-2d83afd9f2aa",
   "metadata": {},
   "outputs": [
    {
     "data": {
      "text/plain": [
       "Text(0.5, 1.0, 'Decision Tree Confusion Matrix')"
      ]
     },
     "execution_count": 36,
     "metadata": {},
     "output_type": "execute_result"
    },
    {
     "data": {
      "image/png": "[encoded data removed]",
      "text/plain": [
       "<Figure size 432x288 with 2 Axes>"
      ]
     },
     "metadata": {},
     "output_type": "display_data"
    }
   ],
   "source": [
    "#decision tree\n",
    "ConfusionMatrixDisplay(confusion_matrix(y_test, tree_preds)).plot()\n",
    "plt.grid(False)\n",
    "plt.title(\"Decision Tree Confusion Matrix\")"
   ]
  },
  {
   "cell_type": "code",
   "execution_count": 61,
   "id": "1b4119b9-6ee4-4d8c-a36d-b9374af30ac9",
   "metadata": {},
   "outputs": [
    {
     "data": {
      "text/plain": [
       "Text(0.5, 1.0, 'SVC Confusion Matrix')"
      ]
     },
     "execution_count": 61,
     "metadata": {},
     "output_type": "execute_result"
    },
    {
     "data": {
      "image/png": "[encoded data removed]",
      "text/plain": [
       "<Figure size 432x288 with 2 Axes>"
      ]
     },
     "metadata": {},
     "output_type": "display_data"
    }
   ],
   "source": [
    "#svc\n",
    "ConfusionMatrixDisplay(confusion_matrix(y_test, svc_preds)).plot()\n",
    "plt.grid(False)\n",
    "plt.title(\"SVC Confusion Matrix\")"
   ]
  },
  {
   "cell_type": "markdown",
   "id": "06e025bd-89de-44c3-8645-880c58b8ff8d",
   "metadata": {},
   "source": [
    "**Selecting the best model**\n",
    "\n",
    "After taking into account the accuracy, f1, and recall scores and evaluating the confusion matrices, it would be logical to crown SVC as the best model. It has the highest accuracy and f1 score, and the second highest recall score. We will be further analyzing and interpreting this model in Part II, titled CapstoneEvaluation. "
   ]
  }
 ],
 "metadata": {
  "kernelspec": {
   "display_name": "Python 3 (ipykernel)",
   "language": "python",
   "name": "python3"
  },
  "language_info": {
   "codemirror_mode": {
    "name": "ipython",
    "version": 3
   },
   "file_extension": ".py",
   "mimetype": "text/x-python",
   "name": "python",
   "nbconvert_exporter": "python",
   "pygments_lexer": "ipython3",
   "version": "3.9.12"
  }
 },
 "nbformat": 4,
 "nbformat_minor": 5
}
